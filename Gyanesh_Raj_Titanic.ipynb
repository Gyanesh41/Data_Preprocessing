{
 "cells": [
  {
   "cell_type": "code",
   "execution_count": 2,
   "id": "45347588",
   "metadata": {},
   "outputs": [
    {
     "data": {
      "text/html": [
       "<div>\n",
       "<style scoped>\n",
       "    .dataframe tbody tr th:only-of-type {\n",
       "        vertical-align: middle;\n",
       "    }\n",
       "\n",
       "    .dataframe tbody tr th {\n",
       "        vertical-align: top;\n",
       "    }\n",
       "\n",
       "    .dataframe thead th {\n",
       "        text-align: right;\n",
       "    }\n",
       "</style>\n",
       "<table border=\"1\" class=\"dataframe\">\n",
       "  <thead>\n",
       "    <tr style=\"text-align: right;\">\n",
       "      <th></th>\n",
       "      <th>survived</th>\n",
       "      <th>pclass</th>\n",
       "      <th>sex</th>\n",
       "      <th>age</th>\n",
       "      <th>sibsp</th>\n",
       "      <th>parch</th>\n",
       "      <th>fare</th>\n",
       "      <th>embarked</th>\n",
       "      <th>class</th>\n",
       "      <th>who</th>\n",
       "      <th>adult_male</th>\n",
       "      <th>deck</th>\n",
       "      <th>embark_town</th>\n",
       "      <th>alive</th>\n",
       "      <th>alone</th>\n",
       "    </tr>\n",
       "  </thead>\n",
       "  <tbody>\n",
       "    <tr>\n",
       "      <th>0</th>\n",
       "      <td>0</td>\n",
       "      <td>3</td>\n",
       "      <td>male</td>\n",
       "      <td>22.0</td>\n",
       "      <td>1</td>\n",
       "      <td>0</td>\n",
       "      <td>7.2500</td>\n",
       "      <td>S</td>\n",
       "      <td>Third</td>\n",
       "      <td>man</td>\n",
       "      <td>True</td>\n",
       "      <td>NaN</td>\n",
       "      <td>Southampton</td>\n",
       "      <td>no</td>\n",
       "      <td>False</td>\n",
       "    </tr>\n",
       "    <tr>\n",
       "      <th>1</th>\n",
       "      <td>1</td>\n",
       "      <td>1</td>\n",
       "      <td>female</td>\n",
       "      <td>38.0</td>\n",
       "      <td>1</td>\n",
       "      <td>0</td>\n",
       "      <td>71.2833</td>\n",
       "      <td>C</td>\n",
       "      <td>First</td>\n",
       "      <td>woman</td>\n",
       "      <td>False</td>\n",
       "      <td>C</td>\n",
       "      <td>Cherbourg</td>\n",
       "      <td>yes</td>\n",
       "      <td>False</td>\n",
       "    </tr>\n",
       "    <tr>\n",
       "      <th>2</th>\n",
       "      <td>1</td>\n",
       "      <td>3</td>\n",
       "      <td>female</td>\n",
       "      <td>26.0</td>\n",
       "      <td>0</td>\n",
       "      <td>0</td>\n",
       "      <td>7.9250</td>\n",
       "      <td>S</td>\n",
       "      <td>Third</td>\n",
       "      <td>woman</td>\n",
       "      <td>False</td>\n",
       "      <td>NaN</td>\n",
       "      <td>Southampton</td>\n",
       "      <td>yes</td>\n",
       "      <td>True</td>\n",
       "    </tr>\n",
       "    <tr>\n",
       "      <th>3</th>\n",
       "      <td>1</td>\n",
       "      <td>1</td>\n",
       "      <td>female</td>\n",
       "      <td>35.0</td>\n",
       "      <td>1</td>\n",
       "      <td>0</td>\n",
       "      <td>53.1000</td>\n",
       "      <td>S</td>\n",
       "      <td>First</td>\n",
       "      <td>woman</td>\n",
       "      <td>False</td>\n",
       "      <td>C</td>\n",
       "      <td>Southampton</td>\n",
       "      <td>yes</td>\n",
       "      <td>False</td>\n",
       "    </tr>\n",
       "    <tr>\n",
       "      <th>4</th>\n",
       "      <td>0</td>\n",
       "      <td>3</td>\n",
       "      <td>male</td>\n",
       "      <td>35.0</td>\n",
       "      <td>0</td>\n",
       "      <td>0</td>\n",
       "      <td>8.0500</td>\n",
       "      <td>S</td>\n",
       "      <td>Third</td>\n",
       "      <td>man</td>\n",
       "      <td>True</td>\n",
       "      <td>NaN</td>\n",
       "      <td>Southampton</td>\n",
       "      <td>no</td>\n",
       "      <td>True</td>\n",
       "    </tr>\n",
       "    <tr>\n",
       "      <th>...</th>\n",
       "      <td>...</td>\n",
       "      <td>...</td>\n",
       "      <td>...</td>\n",
       "      <td>...</td>\n",
       "      <td>...</td>\n",
       "      <td>...</td>\n",
       "      <td>...</td>\n",
       "      <td>...</td>\n",
       "      <td>...</td>\n",
       "      <td>...</td>\n",
       "      <td>...</td>\n",
       "      <td>...</td>\n",
       "      <td>...</td>\n",
       "      <td>...</td>\n",
       "      <td>...</td>\n",
       "    </tr>\n",
       "    <tr>\n",
       "      <th>886</th>\n",
       "      <td>0</td>\n",
       "      <td>2</td>\n",
       "      <td>male</td>\n",
       "      <td>27.0</td>\n",
       "      <td>0</td>\n",
       "      <td>0</td>\n",
       "      <td>13.0000</td>\n",
       "      <td>S</td>\n",
       "      <td>Second</td>\n",
       "      <td>man</td>\n",
       "      <td>True</td>\n",
       "      <td>NaN</td>\n",
       "      <td>Southampton</td>\n",
       "      <td>no</td>\n",
       "      <td>True</td>\n",
       "    </tr>\n",
       "    <tr>\n",
       "      <th>887</th>\n",
       "      <td>1</td>\n",
       "      <td>1</td>\n",
       "      <td>female</td>\n",
       "      <td>19.0</td>\n",
       "      <td>0</td>\n",
       "      <td>0</td>\n",
       "      <td>30.0000</td>\n",
       "      <td>S</td>\n",
       "      <td>First</td>\n",
       "      <td>woman</td>\n",
       "      <td>False</td>\n",
       "      <td>B</td>\n",
       "      <td>Southampton</td>\n",
       "      <td>yes</td>\n",
       "      <td>True</td>\n",
       "    </tr>\n",
       "    <tr>\n",
       "      <th>888</th>\n",
       "      <td>0</td>\n",
       "      <td>3</td>\n",
       "      <td>female</td>\n",
       "      <td>NaN</td>\n",
       "      <td>1</td>\n",
       "      <td>2</td>\n",
       "      <td>23.4500</td>\n",
       "      <td>S</td>\n",
       "      <td>Third</td>\n",
       "      <td>woman</td>\n",
       "      <td>False</td>\n",
       "      <td>NaN</td>\n",
       "      <td>Southampton</td>\n",
       "      <td>no</td>\n",
       "      <td>False</td>\n",
       "    </tr>\n",
       "    <tr>\n",
       "      <th>889</th>\n",
       "      <td>1</td>\n",
       "      <td>1</td>\n",
       "      <td>male</td>\n",
       "      <td>26.0</td>\n",
       "      <td>0</td>\n",
       "      <td>0</td>\n",
       "      <td>30.0000</td>\n",
       "      <td>C</td>\n",
       "      <td>First</td>\n",
       "      <td>man</td>\n",
       "      <td>True</td>\n",
       "      <td>C</td>\n",
       "      <td>Cherbourg</td>\n",
       "      <td>yes</td>\n",
       "      <td>True</td>\n",
       "    </tr>\n",
       "    <tr>\n",
       "      <th>890</th>\n",
       "      <td>0</td>\n",
       "      <td>3</td>\n",
       "      <td>male</td>\n",
       "      <td>32.0</td>\n",
       "      <td>0</td>\n",
       "      <td>0</td>\n",
       "      <td>7.7500</td>\n",
       "      <td>Q</td>\n",
       "      <td>Third</td>\n",
       "      <td>man</td>\n",
       "      <td>True</td>\n",
       "      <td>NaN</td>\n",
       "      <td>Queenstown</td>\n",
       "      <td>no</td>\n",
       "      <td>True</td>\n",
       "    </tr>\n",
       "  </tbody>\n",
       "</table>\n",
       "<p>891 rows × 15 columns</p>\n",
       "</div>"
      ],
      "text/plain": [
       "     survived  pclass     sex   age  sibsp  parch     fare embarked   class  \\\n",
       "0           0       3    male  22.0      1      0   7.2500        S   Third   \n",
       "1           1       1  female  38.0      1      0  71.2833        C   First   \n",
       "2           1       3  female  26.0      0      0   7.9250        S   Third   \n",
       "3           1       1  female  35.0      1      0  53.1000        S   First   \n",
       "4           0       3    male  35.0      0      0   8.0500        S   Third   \n",
       "..        ...     ...     ...   ...    ...    ...      ...      ...     ...   \n",
       "886         0       2    male  27.0      0      0  13.0000        S  Second   \n",
       "887         1       1  female  19.0      0      0  30.0000        S   First   \n",
       "888         0       3  female   NaN      1      2  23.4500        S   Third   \n",
       "889         1       1    male  26.0      0      0  30.0000        C   First   \n",
       "890         0       3    male  32.0      0      0   7.7500        Q   Third   \n",
       "\n",
       "       who  adult_male deck  embark_town alive  alone  \n",
       "0      man        True  NaN  Southampton    no  False  \n",
       "1    woman       False    C    Cherbourg   yes  False  \n",
       "2    woman       False  NaN  Southampton   yes   True  \n",
       "3    woman       False    C  Southampton   yes  False  \n",
       "4      man        True  NaN  Southampton    no   True  \n",
       "..     ...         ...  ...          ...   ...    ...  \n",
       "886    man        True  NaN  Southampton    no   True  \n",
       "887  woman       False    B  Southampton   yes   True  \n",
       "888  woman       False  NaN  Southampton    no  False  \n",
       "889    man        True    C    Cherbourg   yes   True  \n",
       "890    man        True  NaN   Queenstown    no   True  \n",
       "\n",
       "[891 rows x 15 columns]"
      ]
     },
     "execution_count": 2,
     "metadata": {},
     "output_type": "execute_result"
    }
   ],
   "source": [
    "import seaborn as sns;\n",
    "titanic=sns.load_dataset(\"titanic\");\n",
    "titanic"
   ]
  },
  {
   "cell_type": "code",
   "execution_count": 48,
   "id": "400edf5a",
   "metadata": {
    "scrolled": true
   },
   "outputs": [
    {
     "name": "stdout",
     "output_type": "stream",
     "text": [
      "<class 'pandas.core.frame.DataFrame'>\n",
      "RangeIndex: 891 entries, 0 to 890\n",
      "Data columns (total 14 columns):\n",
      " #   Column       Non-Null Count  Dtype   \n",
      "---  ------       --------------  -----   \n",
      " 0   survived     891 non-null    int64   \n",
      " 1   pclass       891 non-null    int64   \n",
      " 2   sex          891 non-null    object  \n",
      " 3   age          714 non-null    float64 \n",
      " 4   sibsp        891 non-null    int64   \n",
      " 5   parch        891 non-null    int64   \n",
      " 6   fare         891 non-null    float64 \n",
      " 7   embarked     889 non-null    object  \n",
      " 8   class        891 non-null    category\n",
      " 9   who          891 non-null    object  \n",
      " 10  adult_male   891 non-null    bool    \n",
      " 11  embark_town  889 non-null    object  \n",
      " 12  alive        891 non-null    object  \n",
      " 13  alone        891 non-null    bool    \n",
      "dtypes: bool(2), category(1), float64(2), int64(4), object(5)\n",
      "memory usage: 79.4+ KB\n"
     ]
    }
   ],
   "source": [
    "titanic.info()"
   ]
  },
  {
   "cell_type": "markdown",
   "id": "7dcff8aa",
   "metadata": {},
   "source": [
    "# Q.0.a> Creating class and filter (to find if any column have more missing data than minimum requirements) and fill the missing data. And drop the filtered column."
   ]
  },
  {
   "cell_type": "code",
   "execution_count": 1,
   "id": "f02427dd",
   "metadata": {},
   "outputs": [
    {
     "name": "stdout",
     "output_type": "stream",
     "text": [
      "Maximum Possible Percentage Data NaN:70\n",
      "<class 'pandas.core.frame.DataFrame'>\n",
      "RangeIndex: 891 entries, 0 to 890\n",
      "Data columns (total 14 columns):\n",
      " #   Column       Non-Null Count  Dtype   \n",
      "---  ------       --------------  -----   \n",
      " 0   survived     891 non-null    int64   \n",
      " 1   pclass       891 non-null    int64   \n",
      " 2   sex          891 non-null    object  \n",
      " 3   age          714 non-null    float64 \n",
      " 4   sibsp        891 non-null    int64   \n",
      " 5   parch        891 non-null    int64   \n",
      " 6   fare         891 non-null    float64 \n",
      " 7   embarked     891 non-null    object  \n",
      " 8   class        891 non-null    category\n",
      " 9   who          891 non-null    object  \n",
      " 10  adult_male   891 non-null    bool    \n",
      " 11  embark_town  891 non-null    object  \n",
      " 12  alive        891 non-null    object  \n",
      " 13  alone        891 non-null    bool    \n",
      "dtypes: bool(2), category(1), float64(2), int64(4), object(5)\n",
      "memory usage: 79.4+ KB\n"
     ]
    }
   ],
   "source": [
    "import math\n",
    "import pandas as pd;\n",
    "from sklearn.impute import SimpleImputer;\n",
    "import numpy as np;\n",
    "class Table:\n",
    "    def __init__(this,t=pd.DataFrame()):\n",
    "        this.titan=t\n",
    "        \n",
    "    def filtert(this,PercentNA=float()):\n",
    "        t=this.titan.columns\n",
    "        PercentNA=PercentNA/100\n",
    "        for i in t:\n",
    "            if (this.titan[i].isnull().sum()>math.floor(PercentNA*(len(this.titan)))):\n",
    "                this.titan=this.titan.drop([i],1);\n",
    "        return(this.titan)\n",
    "    \n",
    "    def findMissingByMode(this,nColumn=list()):\n",
    "        Imputer=SimpleImputer(missing_values = np.nan, strategy = 'most_frequent')\n",
    "        for i in nColumn:\n",
    "            i=this.titan.columns[i]\n",
    "            if this.titan[i].isnull().sum()>0:\n",
    "                this.titan[i]=Imputer.fit_transform(np.array(this.titan[i]).reshape(-1,1))\n",
    "        return(this.titan)\n",
    "    \n",
    "    def countParameter(this,column=list(),content=list()):\n",
    "        return(this.titan[this.titan[column]==content][column].count())\n",
    "    def info(this):\n",
    "        return(this.titan.info())\n",
    "    \n",
    "    \n",
    "    \n",
    "import seaborn as sns;\n",
    "titanic=sns.load_dataset(\"titanic\");        \n",
    "\n",
    "g=Table(titanic)\n",
    "PercentNA=float(input(\"Maximum Possible Percentage Data NaN:\"))\n",
    "g.filtert(PercentNA)\n",
    "a=g.findMissingByMode([7,11])\n",
    "b=g.countParameter([\"embarked\",\"age\"],[\"Q\",20])\n",
    "\n",
    "avg_age_man=float(format(g.titan[\"age\"].where(g.titan[\"who\"]==\"man\").dropna().mean(),'.2f'))\n",
    "avg_age_woman=float(format(g.titan[\"age\"].where(g.titan[\"who\"]==\"woman\").dropna().mean(),'.2f'))\n",
    "avg_age_child_M=float(format(g.titan[\"age\"].where(g.titan[\"who\"].where(g.titan[\"sex\"]==\"male\")==\"child\").dropna().median(),'.2f'))\n",
    "avg_age_child_W=float(format(g.titan[\"age\"].where(g.titan[\"who\"].where(g.titan[\"sex\"]==\"female\")==\"child\").dropna().mean(),'.2f'))\n",
    "\n",
    "for i in range(0,1,len(g.titan)):\n",
    "    if math.isnan(g.titan[\"age\"][i]):\n",
    "        if g.titan[\"who\"][i]==\"man\":\n",
    "            g.titan[\"age\"][i]=avg_age_man\n",
    "        elif g.titan[\"who\"][i]==\"woman\":\n",
    "            g.titan[\"age\"][i]=avg_age_woman\n",
    "        elif g.titan[\"who\"][i]==\"child\" and g.titan[\"sex\"][i]==\"male\":\n",
    "            g.titan[\"age\"][i]=avg_age_child_M\n",
    "        elif g.titan[\"who\"][i]==\"child\" and g.titan[\"sex\"][i]==\"female\":\n",
    "            g.titan[\"age\"][i]=avg_age_child_W\n",
    "            \n",
    "g.info()"
   ]
  },
  {
   "cell_type": "markdown",
   "id": "44f5bc32",
   "metadata": {},
   "source": [
    "# Q.1.a.> Draw the graph for number of people in particular class"
   ]
  },
  {
   "cell_type": "code",
   "execution_count": 5,
   "id": "982792c0",
   "metadata": {},
   "outputs": [
    {
     "data": {
      "image/png": "[encoded data removed]",
      "text/plain": [
       "<Figure size 432x288 with 1 Axes>"
      ]
     },
     "metadata": {
      "needs_background": "light"
     },
     "output_type": "display_data"
    }
   ],
   "source": [
    "from matplotlib import pyplot as plt;\n",
    "x=[\"Third\",\"Second\",\"First\"]\n",
    "a=[];pclass=[3,2,1]\n",
    "for i in pclass:\n",
    "    a.append(g.titan[\"pclass\"].where(g.titan[\"pclass\"]==i).dropna().count())\n",
    "plt.bar(x,a)\n",
    "plt.xlabel(\"Passanger Class\")\n",
    "plt.ylabel(\"Number of People\")\n",
    "plt.show()"
   ]
  },
  {
   "cell_type": "markdown",
   "id": "cca05d0f",
   "metadata": {},
   "source": [
    "# Q.1.b.> Draw the graph for number of men, women and children in particular class."
   ]
  },
  {
   "cell_type": "code",
   "execution_count": 6,
   "id": "2ffd7e9a",
   "metadata": {},
   "outputs": [
    {
     "data": {
      "image/png": "[encoded data removed]",
      "text/plain": [
       "<Figure size 432x288 with 1 Axes>"
      ]
     },
     "metadata": {
      "needs_background": "light"
     },
     "output_type": "display_data"
    },
    {
     "name": "stdout",
     "output_type": "stream",
     "text": [
      "No. of Women ticket booked as per class: [114  66  91]\n",
      "No. of Men ticket booked as per class: [319  99 119]\n",
      "No. of ticket booked for children as per class: [58 19  6]\n"
     ]
    }
   ],
   "source": [
    "from matplotlib import pyplot as plt;\n",
    "x=[\"Third\",\"Second\",\"First\"]\n",
    "xlabels=[x for x,_ in enumerate(x)];\n",
    "Women=[];Men=[];Children=[];pclass=[3,2,1]\n",
    "for i in pclass:\n",
    "    Women.append(g.titan[\"who\"].where(g.titan[\"who\"].where(g.titan[\"pclass\"]==i)==\"woman\").dropna().count())\n",
    "    Men.append(g.titan[\"who\"].where(g.titan[\"who\"].where(g.titan[\"pclass\"]==i)==\"man\").dropna().count())\n",
    "    Children.append(g.titan[\"who\"].where(g.titan[\"who\"].where(g.titan[\"pclass\"]==i)==\"child\").dropna().count())\n",
    "Women=np.array(Women);Men=np.array(Men);Children=np.array(Children)\n",
    "plt.bar(xlabels,Women,color='red',width=0.5)\n",
    "plt.bar(xlabels,Men,color='green',bottom=Women,width=0.5)\n",
    "plt.bar(xlabels,Children,color='blue',bottom=(Men+Women),width=0.5)\n",
    "plt.xticks(xlabels,x);\n",
    "plt.grid()\n",
    "plt.legend([\"Women\",\"Men\",\"Children\"])\n",
    "plt.xlabel(\"Passanger Class\")\n",
    "plt.ylabel(\"Number of People\")\n",
    "plt.show()\n",
    "print(\"No. of Women ticket booked as per class:\",Women)\n",
    "print(\"No. of Men ticket booked as per class:\",Men)\n",
    "print(\"No. of ticket booked for children as per class:\",Children)"
   ]
  },
  {
   "cell_type": "markdown",
   "id": "2cd04976",
   "metadata": {},
   "source": [
    "# Q.1.c.> Plot  the number of men,women and children and they are traveling in which class and same curve wuth people who survived. And show the survival ratio."
   ]
  },
  {
   "cell_type": "code",
   "execution_count": 7,
   "id": "4ea7a55d",
   "metadata": {},
   "outputs": [
    {
     "data": {
      "image/png": "[encoded data removed]",
      "text/plain": [
       "<Figure size 432x288 with 1 Axes>"
      ]
     },
     "metadata": {
      "needs_background": "light"
     },
     "output_type": "display_data"
    },
    {
     "data": {
      "image/png": "[encoded data removed]",
      "text/plain": [
       "<Figure size 432x288 with 1 Axes>"
      ]
     },
     "metadata": {
      "needs_background": "light"
     },
     "output_type": "display_data"
    },
    {
     "name": "stdout",
     "output_type": "stream",
     "text": [
      "Women Survival Percentage in each class: [49.12280702 90.90909091 97.8021978 ] \n",
      "Men Survival Percentage in each class: [11.91222571  8.08080808 35.29411765] \n",
      "Children Survival Percentage in each class: [ 43.10344828 100.          83.33333333]\n"
     ]
    }
   ],
   "source": [
    "import numpy as np;\n",
    "from matplotlib import pyplot as plt;\n",
    "x=[\"Third\",\"Second\",\"First\"]\n",
    "xlabels=[x for x,_ in enumerate(x)];\n",
    "Women_S=[];Men_S=[];Children_S=[];pclass=[3,2,1]\n",
    "Women=[];Men=[];Children=[];\n",
    "for i in pclass:\n",
    "    Women.append(g.titan[\"who\"].where(g.titan[\"who\"].where(g.titan[\"pclass\"]==i)==\"woman\").dropna().count())\n",
    "    Men.append(g.titan[\"who\"].where(g.titan[\"who\"].where(g.titan[\"pclass\"]==i)==\"man\").dropna().count())\n",
    "    Children.append(g.titan[\"who\"].where(g.titan[\"who\"].where(g.titan[\"pclass\"]==i)==\"child\").dropna().count())\n",
    "    Women_S.append(g.titan[\"who\"].where(g.titan[\"who\"].where(g.titan[\"pclass\"].where(g.titan[\"survived\"]==1)==i)==\"woman\").dropna().count())\n",
    "    Men_S.append(g.titan[\"who\"].where(g.titan[\"who\"].where(g.titan[\"pclass\"].where(g.titan[\"survived\"]==1)==i)==\"man\").dropna().count())\n",
    "    Children_S.append(g.titan[\"who\"].where(g.titan[\"who\"].where(g.titan[\"pclass\"].where(g.titan[\"survived\"]==1)==i)==\"child\").dropna().count())\n",
    "Women_S=np.array(Women_S);Men_S=np.array(Men_S);Children_S=np.array(Children_S);Women=np.array(Women);Men=np.array(Men);Children=np.array(Children);\n",
    "plt.bar(xlabels,Women,color='red',width=0.4)\n",
    "plt.bar(xlabels,Men,color='green',bottom=Women,width=0.4)\n",
    "plt.bar(xlabels,Children,color='blue',bottom=(Men+Women),width=0.4)\n",
    "plt.xticks(xlabels,x,rotation=90);\n",
    "plt.xlabel(\"Passanger Class\")\n",
    "plt.ylabel(\"Number of People\")\n",
    "plt.grid();plt.legend([\"Women\",\"Men\",\"Children\"]);plt.show();\n",
    "plt.bar(xlabels,Women_S,color='red',width=0.4)\n",
    "plt.bar(xlabels,Men_S,color='green',bottom=Women_S,width=0.4)\n",
    "plt.bar(xlabels,Children_S,color='blue',bottom=(Men_S+Women_S),width=0.4)\n",
    "plt.xticks(xlabels,x,rotation=90);\n",
    "plt.grid()\n",
    "plt.legend([\"Survived Women\",\"Survived Men\",\"Survived Children\"])\n",
    "plt.xlabel(\"Passanger Class\")\n",
    "plt.ylabel(\"Number of People\")\n",
    "plt.show()\n",
    "print( \"Women Survival Percentage in each class:\",Women_S/Women*100,\"\\nMen Survival Percentage in each class:\",Men_S/Men*100,\"\\nChildren Survival Percentage in each class:\",Children_S/Children*100)"
   ]
  },
  {
   "cell_type": "markdown",
   "id": "f47fa416",
   "metadata": {},
   "source": [
    "# Q.1.d>Plot  the number of men,women and children who survived they are traveling in which class."
   ]
  },
  {
   "cell_type": "code",
   "execution_count": 8,
   "id": "77027a9a",
   "metadata": {
    "scrolled": true
   },
   "outputs": [
    {
     "data": {
      "image/png": "[encoded data removed]",
      "text/plain": [
       "<Figure size 432x288 with 1 Axes>"
      ]
     },
     "metadata": {
      "needs_background": "light"
     },
     "output_type": "display_data"
    },
    {
     "name": "stdout",
     "output_type": "stream",
     "text": [
      "Women Survived: [56 60 89] \n",
      "Men Survived: [38  8 42] \n",
      "Children Survived: [25 19  5]\n"
     ]
    }
   ],
   "source": [
    "import numpy as np;\n",
    "from matplotlib import pyplot as plt;\n",
    "x=[\"Third\",\"Second\",\"First\"]\n",
    "xlabels=[x for x,_ in enumerate(x)];\n",
    "Women_S=[];Men_S=[];Children_S=[];pclass=[3,2,1]\n",
    "for i in pclass:\n",
    "    Women_S.append(g.titan[\"who\"].where(g.titan[\"who\"].where(g.titan[\"pclass\"].where(g.titan[\"survived\"]==1)==i)==\"woman\").dropna().count())\n",
    "    Men_S.append(g.titan[\"who\"].where(g.titan[\"who\"].where(g.titan[\"pclass\"].where(g.titan[\"survived\"]==1)==i)==\"man\").dropna().count())\n",
    "    Children_S.append(g.titan[\"who\"].where(g.titan[\"who\"].where(g.titan[\"pclass\"].where(g.titan[\"survived\"]==1)==i)==\"child\").dropna().count())\n",
    "Women_S=np.array(Women_S);Men_S=np.array(Men_S);Children_S=np.array(Children_S)\n",
    "plt.bar(xlabels,Women_S,color='pink',width=0.5)\n",
    "plt.bar(xlabels,Men_S,color='grey',bottom=Women_S,width=0.5)\n",
    "plt.bar(xlabels,Children_S,color='gold',bottom=(Men_S+Women_S),width=0.5)\n",
    "plt.xticks(xlabels,x,rotation=90);\n",
    "plt.grid()\n",
    "plt.title(\"\")\n",
    "plt.legend([\"Women\",\"Men\",\"Children\",\"Survived Women\",\"Survived Men\",\"Survived Children\"])\n",
    "plt.xlabel(\"Passanger Class\")\n",
    "plt.ylabel(\"Number of People\")\n",
    "plt.show()\n",
    "print(\"Women Survived:\",Women_S,\"\\nMen Survived:\", Men_S,\"\\nChildren Survived:\",Children_S)"
   ]
  },
  {
   "cell_type": "markdown",
   "id": "b147fbbb",
   "metadata": {},
   "source": [
    "# Q.2.a> Plot the number of people v/s fare(in pounds) "
   ]
  },
  {
   "cell_type": "code",
   "execution_count": 9,
   "id": "0c4158b0",
   "metadata": {},
   "outputs": [
    {
     "data": {
      "image/png": "[encoded data removed]",
      "text/plain": [
       "<Figure size 432x288 with 1 Axes>"
      ]
     },
     "metadata": {
      "needs_background": "light"
     },
     "output_type": "display_data"
    }
   ],
   "source": [
    "import numpy as np;\n",
    "from matplotlib import pyplot as plt;\n",
    "range1=(0,600)\n",
    "bins=100\n",
    "y=np.array(g.titan[\"fare\"])\n",
    "plt.hist(y, bins, range1, color = 'green',histtype = 'bar', rwidth = 0.8)\n",
    "plt.xlabel('Fare (in pounds)')\n",
    "plt.ylabel('Number of People')\n",
    "plt.grid();plt.show();"
   ]
  },
  {
   "cell_type": "markdown",
   "id": "5775a181",
   "metadata": {},
   "source": [
    "# Q.2.b>Plot Fare v/s Person curve to understand affordibility of people."
   ]
  },
  {
   "cell_type": "code",
   "execution_count": 10,
   "id": "0ab7d356",
   "metadata": {
    "scrolled": true
   },
   "outputs": [
    {
     "data": {
      "image/png": "[encoded data removed]",
      "text/plain": [
       "<Figure size 432x288 with 1 Axes>"
      ]
     },
     "metadata": {
      "needs_background": "light"
     },
     "output_type": "display_data"
    }
   ],
   "source": [
    "import numpy as np;\n",
    "from matplotlib import pyplot as plt;\n",
    "N=np.array(g.titan[\"fare\"])\n",
    "plt.plot(N)\n",
    "plt.title(\"Fare v/s Serial No. of Person booked\")\n",
    "plt.xlabel(\"Serial No. of Person booked\")\n",
    "plt.ylabel(\"Fare(in pound)\")\n",
    "plt.grid();\n",
    "plt.show();"
   ]
  },
  {
   "cell_type": "markdown",
   "id": "ae12552c",
   "metadata": {},
   "source": [
    "# Outliers of Fare and imputation."
   ]
  },
  {
   "cell_type": "code",
   "execution_count": 11,
   "id": "8fdc0d34",
   "metadata": {},
   "outputs": [
    {
     "name": "stderr",
     "output_type": "stream",
     "text": [
      "C:\\Users\\rugyr\\anaconda3\\lib\\site-packages\\seaborn\\_decorators.py:36: FutureWarning: Pass the following variable as a keyword arg: x. From version 0.12, the only valid positional argument will be `data`, and passing other arguments without an explicit keyword will result in an error or misinterpretation.\n",
      "  warnings.warn(\n"
     ]
    },
    {
     "data": {
      "text/plain": [
       "<AxesSubplot:xlabel='fare'>"
      ]
     },
     "execution_count": 11,
     "metadata": {},
     "output_type": "execute_result"
    },
    {
     "data": {
      "image/png": "[encoded data removed]",
      "text/plain": [
       "<Figure size 432x288 with 1 Axes>"
      ]
     },
     "metadata": {
      "needs_background": "light"
     },
     "output_type": "display_data"
    }
   ],
   "source": [
    "sns.boxplot(g.titan[\"fare\"])"
   ]
  },
  {
   "cell_type": "code",
   "execution_count": 13,
   "id": "ab501b1a",
   "metadata": {},
   "outputs": [
    {
     "name": "stderr",
     "output_type": "stream",
     "text": [
      "<ipython-input-13-633a3a8da6ba>:10: SettingWithCopyWarning: \n",
      "A value is trying to be set on a copy of a slice from a DataFrame\n",
      "\n",
      "See the caveats in the documentation: https://pandas.pydata.org/pandas-docs/stable/user_guide/indexing.html#returning-a-view-versus-a-copy\n",
      "  g.titan[\"fare\"][i]=upper_limit;\n",
      "C:\\Users\\rugyr\\anaconda3\\lib\\site-packages\\seaborn\\_decorators.py:36: FutureWarning: Pass the following variable as a keyword arg: x. From version 0.12, the only valid positional argument will be `data`, and passing other arguments without an explicit keyword will result in an error or misinterpretation.\n",
      "  warnings.warn(\n"
     ]
    },
    {
     "data": {
      "text/plain": [
       "<AxesSubplot:xlabel='fare'>"
      ]
     },
     "execution_count": 13,
     "metadata": {},
     "output_type": "execute_result"
    },
    {
     "data": {
      "image/png": "[encoded data removed]",
      "text/plain": [
       "<Figure size 432x288 with 1 Axes>"
      ]
     },
     "metadata": {
      "needs_background": "light"
     },
     "output_type": "display_data"
    }
   ],
   "source": [
    "Q1=g.titan[\"fare\"].quantile(0.25)\n",
    "Q3=g.titan[\"fare\"].quantile(0.75)\n",
    "IQR=Q3-Q1\n",
    "lower_limit=Q1-1.5*IQR\n",
    "upper_limit=Q3+1.5*IQR\n",
    "for i in range(len(g.titan)):\n",
    "    if g.titan[\"fare\"][i]<=lower_limit:\n",
    "        g.titan[\"fare\"][i]=lower_limit;\n",
    "    elif g.titan[\"fare\"][i]>=upper_limit:\n",
    "        g.titan[\"fare\"][i]=upper_limit;\n",
    "sns.boxplot(g.titan[\"fare\"])"
   ]
  },
  {
   "cell_type": "code",
   "execution_count": 36,
   "id": "f7c28f9f",
   "metadata": {},
   "outputs": [
    {
     "data": {
      "image/png": "[encoded data removed]",
      "text/plain": [
       "<Figure size 432x288 with 1 Axes>"
      ]
     },
     "metadata": {
      "needs_background": "light"
     },
     "output_type": "display_data"
    }
   ],
   "source": [
    "import numpy as np;\n",
    "from matplotlib import pyplot as plt;\n",
    "range1=(0,80)\n",
    "bins=20\n",
    "y=np.array(g.titan[\"fare\"])\n",
    "plt.hist(y, bins, range1, color = 'green',histtype = 'bar', rwidth = 0.8)\n",
    "plt.xlabel('Fare (in pounds)')\n",
    "plt.ylabel('Number of People')\n",
    "plt.grid();plt.show();"
   ]
  },
  {
   "cell_type": "markdown",
   "id": "fc41536c",
   "metadata": {},
   "source": [
    "# Q.4.a>The people survival mapping on the basis of boarding with siblings."
   ]
  },
  {
   "cell_type": "code",
   "execution_count": 70,
   "id": "85a12377",
   "metadata": {},
   "outputs": [
    {
     "name": "stdout",
     "output_type": "stream",
     "text": [
      "The percentage of survived with respect to SibSp:\n",
      "[34.53947368421053, 53.588516746411486, 46.42857142857143, 25.0, 16.666666666666668, 0.0, 0.0] \n",
      " [608, 209, 28, 16, 18, 5, 7] \n",
      " [210, 112, 13, 4, 3, 0, 0]\n"
     ]
    },
    {
     "data": {
      "text/html": [
       "<div>\n",
       "<style scoped>\n",
       "    .dataframe tbody tr th:only-of-type {\n",
       "        vertical-align: middle;\n",
       "    }\n",
       "\n",
       "    .dataframe tbody tr th {\n",
       "        vertical-align: top;\n",
       "    }\n",
       "\n",
       "    .dataframe thead th {\n",
       "        text-align: right;\n",
       "    }\n",
       "</style>\n",
       "<table border=\"1\" class=\"dataframe\">\n",
       "  <thead>\n",
       "    <tr style=\"text-align: right;\">\n",
       "      <th></th>\n",
       "      <th>sibsp</th>\n",
       "      <th>Total Number of People</th>\n",
       "      <th>Number of People survived</th>\n",
       "      <th>Percentage Survival Rate</th>\n",
       "    </tr>\n",
       "  </thead>\n",
       "  <tbody>\n",
       "    <tr>\n",
       "      <th>0</th>\n",
       "      <td>0</td>\n",
       "      <td>608</td>\n",
       "      <td>210</td>\n",
       "      <td>34.539474</td>\n",
       "    </tr>\n",
       "    <tr>\n",
       "      <th>1</th>\n",
       "      <td>1</td>\n",
       "      <td>209</td>\n",
       "      <td>112</td>\n",
       "      <td>53.588517</td>\n",
       "    </tr>\n",
       "    <tr>\n",
       "      <th>2</th>\n",
       "      <td>2</td>\n",
       "      <td>28</td>\n",
       "      <td>13</td>\n",
       "      <td>46.428571</td>\n",
       "    </tr>\n",
       "    <tr>\n",
       "      <th>3</th>\n",
       "      <td>3</td>\n",
       "      <td>16</td>\n",
       "      <td>4</td>\n",
       "      <td>25.000000</td>\n",
       "    </tr>\n",
       "    <tr>\n",
       "      <th>4</th>\n",
       "      <td>4</td>\n",
       "      <td>18</td>\n",
       "      <td>3</td>\n",
       "      <td>16.666667</td>\n",
       "    </tr>\n",
       "    <tr>\n",
       "      <th>5</th>\n",
       "      <td>5</td>\n",
       "      <td>5</td>\n",
       "      <td>0</td>\n",
       "      <td>0.000000</td>\n",
       "    </tr>\n",
       "    <tr>\n",
       "      <th>6</th>\n",
       "      <td>8</td>\n",
       "      <td>7</td>\n",
       "      <td>0</td>\n",
       "      <td>0.000000</td>\n",
       "    </tr>\n",
       "  </tbody>\n",
       "</table>\n",
       "</div>"
      ],
      "text/plain": [
       "   sibsp  Total Number of People  Number of People survived  \\\n",
       "0      0                     608                        210   \n",
       "1      1                     209                        112   \n",
       "2      2                      28                         13   \n",
       "3      3                      16                          4   \n",
       "4      4                      18                          3   \n",
       "5      5                       5                          0   \n",
       "6      8                       7                          0   \n",
       "\n",
       "   Percentage Survival Rate  \n",
       "0                 34.539474  \n",
       "1                 53.588517  \n",
       "2                 46.428571  \n",
       "3                 25.000000  \n",
       "4                 16.666667  \n",
       "5                  0.000000  \n",
       "6                  0.000000  "
      ]
     },
     "execution_count": 70,
     "metadata": {},
     "output_type": "execute_result"
    }
   ],
   "source": [
    "print(\"The percentage of survived with respect to SibSp:\");\n",
    "ns=[];nt=[];psr=[];loop=g.titan[\"sibsp\"].unique();loop.sort();\n",
    "for i in loop:\n",
    "    ls=int(g.titan[\"sibsp\"].where(g.titan[\"sibsp\"].where(g.titan[\"survived\"]==1)==i).dropna().count())\n",
    "    lt=int(g.titan[\"sibsp\"].where(g.titan[\"sibsp\"]==i).dropna().count())\n",
    "    ns.append(ls);\n",
    "    nt.append(lt);\n",
    "    psr.append(100*ls/lt)\n",
    "print(psr,\"\\n\",nt,\"\\n\",ns)\n",
    "mydict={\"sibsp\":loop,\"Total Number of People\":nt,\"Number of People survived\":ns,\"Percentage Survival Rate\":psr}\n",
    "pd.DataFrame(mydict)"
   ]
  },
  {
   "cell_type": "markdown",
   "id": "aec6cdb3",
   "metadata": {},
   "source": [
    "# Q.4.b>The people survival mapping on the basis of boarding with siblings."
   ]
  }
 ],
 "metadata": {
  "kernelspec": {
   "display_name": "Python 3",
   "language": "python",
   "name": "python3"
  },
  "language_info": {
   "codemirror_mode": {
    "name": "ipython",
    "version": 3
   },
   "file_extension": ".py",
   "mimetype": "text/x-python",
   "name": "python",
   "nbconvert_exporter": "python",
   "pygments_lexer": "ipython3",
   "version": "3.8.8"
  }
 },
 "nbformat": 4,
 "nbformat_minor": 5
}
